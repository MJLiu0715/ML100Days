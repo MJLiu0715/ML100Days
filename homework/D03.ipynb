{
 "cells": [
  {
   "cell_type": "code",
   "execution_count": 1,
   "metadata": {},
   "outputs": [
    {
     "name": "stdout",
     "output_type": "stream",
     "text": [
      "1. 聲壓為20000微巴斯卡，分貝為 60.0 \n",
      "\n",
      "2. 30分貝的聲壓是: 632.4555320336758\n",
      "   50分貝的聲壓是: 6324.555320336759\n",
      "   30分貝的聲壓是50分貝的幾倍: 0.1\n"
     ]
    }
   ],
   "source": [
    "import numpy as np\n",
    "#1.正常的談話的聲壓為20000微巴斯卡，請問多少分貝?\n",
    "#分貝 [ dB ] = 20 log (量到的聲壓值/基準聲壓值)，基準聲壓值 = 20微巴斯卡\n",
    "V1 = 20000\n",
    "V0 = 20\n",
    "dB = V0*np.log10(V1/V0)\n",
    "print(\"1. 聲壓為20000微巴斯卡，分貝為\",dB,\"\\n\")\n",
    "\n",
    "#2.30分貝的聲壓會是50分貝的幾倍?\n",
    "#對數與指數的轉換\n",
    "#聲壓值 = np.power(10,分貝dB/20)*基準聲壓值\n",
    "dB1 = 30\n",
    "dB2 = 50\n",
    "V1_30 = np.power(10,dB1/V0)*V0  # 30分貝的聲壓\n",
    "print(\"2. 30分貝的聲壓是:\",V1_30)\n",
    "V1_50 = np.power(10,dB2/V0)*V0  # 50分貝的聲壓\n",
    "print(\"   50分貝的聲壓是:\",V1_50)\n",
    "print(\"   30分貝的聲壓是50分貝的幾倍:\",np.round(V1_30/V1_50,1))"
   ]
  },
  {
   "cell_type": "code",
   "execution_count": null,
   "metadata": {},
   "outputs": [],
   "source": []
  }
 ],
 "metadata": {
  "kernelspec": {
   "display_name": "Python 3",
   "language": "python",
   "name": "python3"
  },
  "language_info": {
   "codemirror_mode": {
    "name": "ipython",
    "version": 3
   },
   "file_extension": ".py",
   "mimetype": "text/x-python",
   "name": "python",
   "nbconvert_exporter": "python",
   "pygments_lexer": "ipython3",
   "version": "3.8.5"
  }
 },
 "nbformat": 4,
 "nbformat_minor": 4
}
