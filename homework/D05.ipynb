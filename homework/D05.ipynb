{
 "cells": [
  {
   "cell_type": "code",
   "execution_count": 1,
   "metadata": {},
   "outputs": [
    {
     "name": "stdout",
     "output_type": "stream",
     "text": [
      "1. 各科成績平均、最大值、最小值、標準差 計算如下:\n",
      "   英文成績: 平均分 67.16666666666667 \t最高分 89 \t最低分 48 \t標準差 13.433995020924426\n",
      "   數學成績: 平均分 66.6 \t\t最高分 85.0 \t最低分 60.0 \t標準差 9.707728879609279\n",
      "   國文成績: 平均分 75.33333333333333 \t最高分 90 \t最低分 65 \t標準差 8.825468196582484 \n",
      "\n",
      "2. 補考後數學成績: 平均分 64.66666666666667 \t最高分 85 \t最低分 55 \t標準差 9.860132971832694 \n",
      "\n",
      "3. 補考後資料與國文成績相關係數比較\n",
      "國文與英文成績相關係數:\n",
      " [[1.         0.97792828]\n",
      " [0.97792828 1.        ]]\n",
      "國文與數學成績相關係數:\n",
      " [[1.         0.74056803]\n",
      " [0.74056803 1.        ]]\n",
      "與國文成績相關係數最高的學科為 英文\n"
     ]
    }
   ],
   "source": [
    "import numpy as np\n",
    "#題目:\n",
    "english_score = np.array([55,89,76,65,48,70])\n",
    "math_score = np.array([60,85,60,68,np.nan,60])\n",
    "chinese_score = np.array([65,90,82,72,66,77])\n",
    "#上3列共六位同學的英文、數學、國文成績，第一個元素代表第一位同學，舉例第一位同學英文55分、數學60分、國文65分，\n",
    "#     今天第五位同學因某原因沒來考試，導致數學成績缺值，運用上列數據回答下列問題。\n",
    "\n",
    "#1. 請計算各科成績平均、最大值、最小值、標準差，其中數學缺一筆資料可忽略?\n",
    "print(\"1. 各科成績平均、最大值、最小值、標準差 計算如下:\")\n",
    "en_mean = np.nanmean(english_score)               #平均值\n",
    "en_max = np.nanmax(english_score)                 #最高分\n",
    "en_min = np.nanmin(english_score)                 #最低分\n",
    "en_std = np.nanstd(english_score)                 #標準差\n",
    "print(\"   英文成績: 平均分\",en_mean,\"\\t最高分\",en_max,\"\\t最低分\",en_min,\"\\t標準差\",en_std)\n",
    "ma_mean = np.nanmean(math_score)                  #平均值\n",
    "ma_max = np.nanmax(math_score)                    #最高分\n",
    "ma_min = np.nanmin(math_score)                    #最低分\n",
    "ma_std = np.nanstd(math_score)                    #標準差\n",
    "print(\"   數學成績: 平均分\",ma_mean,\"\\t\\t最高分\",ma_max,\"\\t最低分\",ma_min,\"\\t標準差\",ma_std)\n",
    "ch_mean = np.nanmean(chinese_score)               #平均值\n",
    "ch_max = np.nanmax(chinese_score)                 #最高分\n",
    "ch_min = np.nanmin(chinese_score)                 #最低分\n",
    "ch_std = np.nanstd(chinese_score)                 #標準差\n",
    "print(\"   國文成績: 平均分\",ch_mean,\"\\t最高分\",ch_max,\"\\t最低分\",ch_min,\"\\t標準差\",ch_std,\"\\n\")\n",
    "\n",
    "#2. 第五位同學補考數學後成績為55，請計算補考後數學成績平均、最大值、最小值、標準差?\n",
    "math_score1 = np.array([60,85,60,68,55,60])      #加入補考後數學成績\n",
    "ma_mean1 = np.mean(math_score1)                  #平均值\n",
    "ma_max1 = np.max(math_score1)                    #最高分\n",
    "ma_min1 = np.min(math_score1)                    #最低分\n",
    "ma_std1 = np.std(math_score1)                    #標準差\n",
    "print(\"2. 補考後數學成績: 平均分\",ma_mean1,\"\\t最高分\",ma_max1,\"\\t最低分\",ma_min1,\"\\t標準差\",ma_std1,\"\\n\")\n",
    "\n",
    "#3. 用補考後資料找出與國文成績相關係數最高的學科?\n",
    "corr_ch_en = np.corrcoef(chinese_score,english_score)\n",
    "print(\"3. 補考後資料與國文成績相關係數比較\")\n",
    "print(\"國文與英文成績相關係數:\\n\",corr_ch_en)\n",
    "corr_ch_ma = np.corrcoef(chinese_score,math_score1)\n",
    "print(\"國文與數學成績相關係數:\\n\",corr_ch_ma)\n",
    "print(\"與國文成績相關係數最高的學科為 英文\")\n",
    "\n",
    "# print(\"\\n比較各科成績的相關係數:\")\n",
    "# ch_en_ma = np.vstack((chinese_score,english_score,math_score1)) #第一行:國文  第二行:英文  第三行:數學\n",
    "# print(\"第一行:國文  第二行:英文  第三行:數學 \\n\",ch_en_ma)\n",
    "# corr = np.corrcoef(ch_en_ma)\n",
    "# print(\"各科的相關係數，國英數\\n\",corr)"
   ]
  },
  {
   "cell_type": "code",
   "execution_count": null,
   "metadata": {},
   "outputs": [],
   "source": []
  }
 ],
 "metadata": {
  "kernelspec": {
   "display_name": "Python 3",
   "language": "python",
   "name": "python3"
  },
  "language_info": {
   "codemirror_mode": {
    "name": "ipython",
    "version": 3
   },
   "file_extension": ".py",
   "mimetype": "text/x-python",
   "name": "python",
   "nbconvert_exporter": "python",
   "pygments_lexer": "ipython3",
   "version": "3.8.5"
  }
 },
 "nbformat": 4,
 "nbformat_minor": 4
}
