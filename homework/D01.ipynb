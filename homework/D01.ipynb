{
 "cells": [
  {
   "cell_type": "code",
   "execution_count": 9,
   "metadata": {},
   "outputs": [
    {
     "name": "stdout",
     "output_type": "stream",
     "text": [
      "1. 等差數列，首數為0，尾數為20，公差為1:\n",
      "[ 0  1  2  3  4  5  6  7  8  9 10 11 12 13 14 15 16 17 18 19 20] \n",
      "\n",
      "2. 將1.的數列取出偶數:\n",
      "[ 0  2  4  6  8 10 12 14 16 18 20] \n",
      "\n",
      "3. 將1.的數列取出3的倍數:\n",
      "[ 3  6  9 12 15 18]\n"
     ]
    }
   ],
   "source": [
    "import numpy as np\n",
    "\n",
    "#1.生成一個等差數列，首數為0，尾數為20，公差為1的數列。\n",
    "list1 = np.arange(0,21,1)\n",
    "print(\"1. 等差數列，首數為0，尾數為20，公差為1:\")\n",
    "print(list1,\"\\n\")\n",
    "\n",
    "#2.呈上題，將以上數列取出偶數。\n",
    "print (\"2. 將1.的數列取出偶數:\")\n",
    "list2 = np.arange(0,21,2)  \n",
    "print(list2,\"\\n\")\n",
    "\n",
    "#3.呈1題，將數列取出3的倍數。\n",
    "print (\"3. 將1.的數列取出3的倍數:\")\n",
    "list3 = np.arange(3,21,3)\n",
    "print(list3)"
   ]
  },
  {
   "cell_type": "code",
   "execution_count": null,
   "metadata": {},
   "outputs": [],
   "source": []
  }
 ],
 "metadata": {
  "kernelspec": {
   "display_name": "Python 3",
   "language": "python",
   "name": "python3"
  },
  "language_info": {
   "codemirror_mode": {
    "name": "ipython",
    "version": 3
   },
   "file_extension": ".py",
   "mimetype": "text/x-python",
   "name": "python",
   "nbconvert_exporter": "python",
   "pygments_lexer": "ipython3",
   "version": "3.8.5"
  }
 },
 "nbformat": 4,
 "nbformat_minor": 4
}
