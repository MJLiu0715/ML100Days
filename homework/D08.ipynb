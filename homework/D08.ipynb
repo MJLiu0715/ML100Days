{
 "cells": [
  {
   "cell_type": "code",
   "execution_count": 2,
   "metadata": {},
   "outputs": [
    {
     "name": "stdout",
     "output_type": "stream",
     "text": [
      "1.將上列list依照['name', 'sex', 'weight', 'rank', 'myopia']順序擺入array\n",
      " [('小明', 'boy', 67.5, 8,  True) ('小華', 'boy', 75.3, 1,  True)\n",
      " ('小菁', 'girl', 50.1, 5, False) ('小美', 'girl', 45.5, 4, False)\n",
      " ('小張', 'boy', 80.8, 7,  True) ('John', 'boy', 90.4, 6,  True)\n",
      " ('Mark', 'boy', 78.4, 2, False) ('Tom', 'boy', 70.7, 3, False)] \n",
      "\n",
      "2.array中全部平均體重: 69.8375 \n",
      "\n",
      "3.男生(sex欄位是boy)平均體重: 77.18333333333334 \n",
      "\n",
      "4.女生(sex欄位是girl)平均體重: 47.8\n"
     ]
    }
   ],
   "source": [
    "import numpy as np\n",
    "name_list = ['小明','小華','小菁','小美','小張','John','Mark','Tom']\n",
    "sex_list = ['boy','boy','girl','girl','boy','boy','boy','boy']\n",
    "weight_list = [67.5,75.3,50.1,45.5,80.8,90.4,78.4,70.7]\n",
    "rank_list = [8,1,5,4,7,6,2,3]\n",
    "myopia_list = [True,True,False,False,True,True,False,False]\n",
    "\n",
    "#1.將上列list依照['name', 'sex', 'weight', 'rank', 'myopia']順序擺入array，\n",
    "#   並且資料型態順序擺入[Unicode,Unicode,float,int,boolean]\n",
    "#dt = np.dtype({'names':('name', 'sex', 'weight', 'rank', 'myopia'), 'formats':('U8', 'U8', 'f8', 'i8', '?')})\n",
    "dt = np.dtype([('name','U8'),('sex','U8'),('weight','f8'),('rank','i8'), ('myopia','?')])\n",
    "array_str = np.zeros(8, dtype=dt)\n",
    "# print(array_str)\n",
    "# print(array_str.dtype)\n",
    "array_str['name'] = name_list\n",
    "array_str['sex'] = sex_list\n",
    "array_str['weight'] = weight_list\n",
    "array_str['rank'] = rank_list\n",
    "array_str['myopia'] = myopia_list\n",
    "print(\"1.將上列list依照['name', 'sex', 'weight', 'rank', 'myopia']順序擺入array\\n\",array_str,\"\\n\")\n",
    "\n",
    "#2.呈上題，將array中體重(weight)數據集取出算出全部平均體重\n",
    "# print(\"所有人的體重:\",array_str[:][\"weight\"])\n",
    "# print(\"所有人的性別:\",array_str[:][\"sex\"],\"\\n\")\n",
    "weight_mean = np.mean(array_str[:][\"weight\"])\n",
    "print(\"2.array中全部平均體重:\",weight_mean,\"\\n\")\n",
    "\n",
    "#3.呈上題，進一步算出男生(sex欄位是boy)平均體重\n",
    "weight_boy = np.where(array_str['sex'] == 'boy',array_str[:][\"weight\"],np.nan)\n",
    "# print(\"找出的男生(sex欄位是boy)體重:\",weight_boy)\n",
    "weight_boy_mean= np.nanmean(weight_boy)\n",
    "print(\"3.男生(sex欄位是boy)平均體重:\",weight_boy_mean,\"\\n\")\n",
    "\n",
    "#4.呈上題，進一步算出女生(sex欄位是girl)平均體重\n",
    "weight_girl = np.where(array_str['sex'] == 'girl',array_str[:][\"weight\"],np.nan)\n",
    "# print(\"找出的女生(sex欄位是girl)體重:\",weight_girl)\n",
    "weight_girl_mean= np.nanmean(weight_girl)\n",
    "print(\"4.女生(sex欄位是girl)平均體重:\",weight_girl_mean)"
   ]
  },
  {
   "cell_type": "code",
   "execution_count": null,
   "metadata": {},
   "outputs": [],
   "source": []
  }
 ],
 "metadata": {
  "kernelspec": {
   "display_name": "Python 3",
   "language": "python",
   "name": "python3"
  },
  "language_info": {
   "codemirror_mode": {
    "name": "ipython",
    "version": 3
   },
   "file_extension": ".py",
   "mimetype": "text/x-python",
   "name": "python",
   "nbconvert_exporter": "python",
   "pygments_lexer": "ipython3",
   "version": "3.8.5"
  }
 },
 "nbformat": 4,
 "nbformat_minor": 4
}
