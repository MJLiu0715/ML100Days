{
 "cells": [
  {
   "cell_type": "code",
   "execution_count": 2,
   "metadata": {},
   "outputs": [
    {
     "name": "stdout",
     "output_type": "stream",
     "text": [
      "1. 讀取檔案資料以便確認Array1與Array2是否已正常存入檔案中\n",
      " Array1:\n",
      " [ 0  1  2  3  4  5  6  7  8  9 10 11 12 13 14 15 16 17 18 19 20 21 22 23\n",
      " 24 25 26 27 28 29]\n",
      " Array2:\n",
      " [2 3 5]\n",
      "\n",
      "\n",
      "2. 讀取檔案資料以便確認Array3是否加下Array1與Array2下面，並且另存成新檔案中\n",
      " Array1:\n",
      " [ 0  1  2  3  4  5  6  7  8  9 10 11 12 13 14 15 16 17 18 19 20 21 22 23\n",
      " 24 25 26 27 28 29]\n",
      " Array2:\n",
      " [2 3 5]\n",
      " Array3:\n",
      " [0.1448128  0.51742243 0.51986407 0.73733077 0.67790655 0.40521036\n",
      " 0.86515141 0.1265921  0.61977201 0.91056143]\n"
     ]
    }
   ],
   "source": [
    "import numpy as np\n",
    "# 1.將下兩列array存成npz檔\n",
    "array1 = np.array(range(30))\n",
    "array2 = np.array([2,3,5])\n",
    "#打開檔案並將資料(Array)存入檔案中\n",
    "with open('D06_multi_array.npz','wb') as f:\n",
    "    np.savez(f, arr_1=array1, arr_2=array2)\n",
    "#開啟檔案讀取資料\n",
    "print(\"1. 讀取檔案資料以便確認Array1與Array2是否已正常存入檔案中\")\n",
    "npzfile = np.load('D06_multi_array.npz')   \n",
    "type(npzfile)\n",
    "npzfile.files   #可確認檔案中有幾個array與其名稱為何\n",
    "#將資料印出來\n",
    "print(\" Array1:\\n\",npzfile['arr_1'])\n",
    "print(\" Array2:\\n\",npzfile['arr_2'])\n",
    "print(\"\\n\")\n",
    "\n",
    "#2.讀取剛剛的npz檔，加入下列array一起存成新的npz檔\n",
    "#  =>由於沒有看到欲加入的array\n",
    "#  =>故假設需要加入的array3 = np.random.rand(10)\n",
    "#\n",
    "array3 = np.random.rand(10)\n",
    "#print(\" Array3:\\n\",array3)\n",
    "#開啟新的檔案\n",
    "with open('D06_multi_array1.npz','wb') as f1:\n",
    "    np.savez(f1, arr_1=npzfile['arr_1'], arr_2=npzfile['arr_2'], arr_3=array3)\n",
    "\n",
    "#開啟檔案讀取資料\n",
    "print(\"2. 讀取檔案資料以便確認Array3是否加下Array1與Array2下面，並且另存成新檔案中\")\n",
    "npzfile1 = np.load('D06_multi_array1.npz')   \n",
    "type(npzfile1)\n",
    "npzfile1.files\n",
    "#將資料印出來\n",
    "print(\" Array1:\\n\",npzfile1['arr_1'])\n",
    "print(\" Array2:\\n\",npzfile1['arr_2'])\n",
    "print(\" Array3:\\n\",npzfile1['arr_3'])\n",
    "\n",
    "npzfile.close()\n",
    "npzfile1.close()"
   ]
  },
  {
   "cell_type": "code",
   "execution_count": null,
   "metadata": {},
   "outputs": [],
   "source": []
  }
 ],
 "metadata": {
  "kernelspec": {
   "display_name": "Python 3",
   "language": "python",
   "name": "python3"
  },
  "language_info": {
   "codemirror_mode": {
    "name": "ipython",
    "version": 3
   },
   "file_extension": ".py",
   "mimetype": "text/x-python",
   "name": "python",
   "nbconvert_exporter": "python",
   "pygments_lexer": "ipython3",
   "version": "3.8.5"
  }
 },
 "nbformat": 4,
 "nbformat_minor": 4
}
