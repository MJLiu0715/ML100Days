{
 "cells": [
  {
   "cell_type": "code",
   "execution_count": 13,
   "metadata": {},
   "outputs": [
    {
     "name": "stdout",
     "output_type": "stream",
     "text": [
      "array1:\n",
      " [[10  8]\n",
      " [ 3  5]] \n",
      "\n",
      "1.計算上列array1之反矩陣\n",
      " [[ 0.19230769 -0.30769231]\n",
      " [-0.11538462  0.38461538]]\n",
      "  反矩陣X原矩陣\n",
      " [[1.00000000e+00 5.55111512e-17]\n",
      " [0.00000000e+00 1.00000000e+00]]\n",
      "=>是否為單位矩陣: False \n",
      "\n",
      "2.array1特徵值(eigenvalues):\n",
      " [13.  2.]\n",
      "  array1特徵向量(eigenvectors):\n",
      " [[ 0.93632918 -0.70710678]\n",
      " [ 0.35112344  0.70710678]] \n",
      "\n",
      "3.運用上列array計算SVD\n",
      "U\n",
      " [[-0.91663818 -0.39971796]\n",
      " [-0.39971796  0.91663818]]\n",
      "Sigma\n",
      " [13.94721714  1.86417116]\n",
      "Vh\n",
      " [[-0.74319741 -0.6690722 ]\n",
      " [-0.6690722   0.74319741]]\n"
     ]
    }
   ],
   "source": [
    "import numpy as np\n",
    "\n",
    "#原矩陣\n",
    "array1 = np.array([[10, 8], [3, 5]])\n",
    "print(\"array1:\\n\",array1,\"\\n\")\n",
    "\n",
    "#1.運用上列array計算反矩陣，乘上原矩陣，並觀察是否為單位矩陣?\n",
    "#反矩陣\n",
    "array1_inv = np.linalg.inv(array1)\n",
    "print(\"1.計算上列array1之反矩陣\\n\",array1_inv)\n",
    "# 反矩陣X原矩陣\n",
    "array1_dot = array1_inv@array1\n",
    "print(\"  反矩陣X原矩陣\\n\",array1_dot)   #用法同 array1_inv.dot(array1)\n",
    "#補充說明:單位矩陣：n行n列,且主對角線上都是1,其他位置都是0的矩陣\n",
    "array_eye = np.eye(2)  # 創造一個單位矩陣，2X2單位矩陣也可用 np.identity(2)\n",
    "#print(array_eye)\n",
    "print (\"=>是否為單位矩陣:\",np.all(np.equal(array1_dot, array_eye)),\"\\n\") #與array1_dot比對是否一致\n",
    "\n",
    "#2.運用上列array計算特徵值、特徵向量?\n",
    "array1_value, array1_vector = np.linalg.eig(array1)\n",
    "print(\"2.array1特徵值(eigenvalues):\\n\",array1_value)  #特徵值也可以用np.linalg.eigvals(array1)\n",
    "# 特徵向量(eigenvectors)\n",
    "print(\"  array1特徵向量(eigenvectors):\\n\",array1_vector,\"\\n\")\n",
    "\n",
    "# #驗證特徵值分解\n",
    "# smat=np.zeros((2,2))\n",
    "# smat= np.diag(array1_value)\n",
    "# result=np.allclose( array1, np.dot(array1_vector, np.dot(smat, np.linalg.inv(array1_vector))))\n",
    "# #對比兩個矩陣的各個元素，若一致則返回True\n",
    "# print(\" 驗證特徵值分解:\",result,\"\\n\")\n",
    "\n",
    "#3.運用上列array計算SVD? \n",
    "#Singular Value Decomposition (SVD) (奇異值分解)\n",
    "u, sigma, vh = np.linalg.svd(array1)\n",
    "print(\"3.運用上列array計算SVD\")\n",
    "print(\"U\\n\",u)\n",
    "print(\"Sigma\\n\",sigma)\n",
    "print(\"Vh\\n\",vh)\n",
    "\n",
    "# #驗證奇異值分解\n",
    "# smat=np.zeros((2,2))\n",
    "# smat[:2,:2]= np.diag(sigma)\n",
    "# print('\\n 奇異矩陣：\\n',smat)\n",
    "# result=np.allclose(array1, np.dot(u, np.dot(smat, vh)))#對比兩個矩陣的各個元素，若一致則返回True\n",
    "# print(\" 驗證奇異值分解:\",result)"
   ]
  },
  {
   "cell_type": "code",
   "execution_count": null,
   "metadata": {},
   "outputs": [],
   "source": []
  }
 ],
 "metadata": {
  "kernelspec": {
   "display_name": "Python 3",
   "language": "python",
   "name": "python3"
  },
  "language_info": {
   "codemirror_mode": {
    "name": "ipython",
    "version": 3
   },
   "file_extension": ".py",
   "mimetype": "text/x-python",
   "name": "python",
   "nbconvert_exporter": "python",
   "pygments_lexer": "ipython3",
   "version": "3.8.5"
  }
 },
 "nbformat": 4,
 "nbformat_minor": 4
}
