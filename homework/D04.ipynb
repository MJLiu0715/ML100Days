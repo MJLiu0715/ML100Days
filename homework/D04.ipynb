{
 "cells": [
  {
   "cell_type": "code",
   "execution_count": 1,
   "metadata": {},
   "outputs": [
    {
     "name": "stdout",
     "output_type": "stream",
     "text": [
      "1. 英文成績比數學成績高的學生有 3 位\n",
      "\n",
      "2. 是否全班同學最高分都是國文: True\n"
     ]
    }
   ],
   "source": [
    "import numpy as np\n",
    "\n",
    "#題目:\n",
    "english_score = np.array([55,89,76,65,48,70])\n",
    "math_score = np.array([60,85,60,68,55,60])\n",
    "chinese_score = np.array([65,90,82,72,66,77])\n",
    "#上3列共六位同學的英文、數學、國文成績，第一個元素代表第一位同學，\n",
    "#    舉例第一位同學英文55分、數學60分、國文65分，運用上列數據回答下列問題。\n",
    "\n",
    "#1.有多少學生英文成績比數學成績高?\n",
    "en_greater = np.greater(english_score,math_score)\n",
    "#print(en_greater)\n",
    "print(\"1. 英文成績比數學成績高的學生有\",np.sum(en_greater!=0),\"位\\n\")\n",
    "\n",
    "#2.是否全班同學最高分都是國文?\n",
    "ch_en = np.greater(chinese_score,english_score)  #國文與英文成績比較，true 國文>英文\n",
    "#print(ch_en)\n",
    "ch_ma = np.greater(chinese_score,math_score)     #國文與數學成績比較，true 國文>數學\n",
    "#print(ch_ma)\n",
    "ch_max = np.all(np.logical_and(ch_en, ch_ma))    #true 國文 > 英文and數學\n",
    "#print(np.logical_and(ch_en, ch_ma))\n",
    "print(\"2. 是否全班同學最高分都是國文:\",ch_max)"
   ]
  },
  {
   "cell_type": "code",
   "execution_count": null,
   "metadata": {},
   "outputs": [],
   "source": []
  }
 ],
 "metadata": {
  "kernelspec": {
   "display_name": "Python 3",
   "language": "python",
   "name": "python3"
  },
  "language_info": {
   "codemirror_mode": {
    "name": "ipython",
    "version": 3
   },
   "file_extension": ".py",
   "mimetype": "text/x-python",
   "name": "python",
   "nbconvert_exporter": "python",
   "pygments_lexer": "ipython3",
   "version": "3.8.5"
  }
 },
 "nbformat": 4,
 "nbformat_minor": 4
}
